{
 "cells": [
  {
   "cell_type": "code",
   "execution_count": 1,
   "metadata": {},
   "outputs": [
    {
     "name": "stdout",
     "output_type": "stream",
     "text": [
      "1\n",
      "3\n",
      "1\n",
      "6\n",
      "1\n",
      "9\n",
      "1\n"
     ]
    }
   ],
   "source": [
    " a=1\n",
    "for i in range(10):\n",
    "    if i%3==0:\n",
    "        continue\n",
    "    i+=1\n",
    "    if i%2==0:\n",
    "        print(a)\n",
    "    if i%3==0:\n",
    "        print(i)\n",
    "        continue\n",
    "else:\n",
    "    print(a)"
   ]
  },
  {
   "cell_type": "code",
   "execution_count": 8,
   "metadata": {},
   "outputs": [
    {
     "name": "stdout",
     "output_type": "stream",
     "text": [
      "Enter your marks/done: 1\n",
      "Enter your marks/done: 2\n",
      "Enter your marks/done: done\n",
      "2 1st max , 1 2nd max , 1 1st min ,2 2nd min , 1.5 Average\n"
     ]
    }
   ],
   "source": [
    "a = int(input(\"Enter your marks/done: \"))\n",
    "max1 = a\n",
    "min1 = a\n",
    "max2 = -1\n",
    "min2 = 101\n",
    "sum1 = a\n",
    "count = 1\n",
    "while True:\n",
    "    b = input(\"Enter your marks/done: \")\n",
    "    if b =='done':\n",
    "        break\n",
    "    n = int(b)\n",
    "    if n<0 or n>100:\n",
    "        continue\n",
    "    if n>max1:\n",
    "        max2=max1\n",
    "        max1=n\n",
    "    elif n>max2 and max2!=max1:\n",
    "        max2=n\n",
    "    if n<min1:\n",
    "        min2=min1\n",
    "        min1=n\n",
    "    elif n<min2 and min2!=min1:\n",
    "        min2=n\n",
    "        \n",
    "    count+=1\n",
    "    sum1+=n\n",
    "    avg = sum1/count\n",
    "print(f\"{max1} 1st max , {max2} 2nd max , {min1} 1st min ,{min2} 2nd min , {avg} Average\")\n",
    "    "
   ]
  },
  {
   "cell_type": "markdown",
   "metadata": {},
   "source": [
    "n=int(input(\"Enter a number: \"))\n",
    "for i in range (1,n+1):\n",
    "    for j in range (1,n+1):\n",
    "        print('*',end=\" \")\n",
    "    print()\n",
    "    "
   ]
  },
  {
   "cell_type": "code",
   "execution_count": 19,
   "metadata": {},
   "outputs": [
    {
     "name": "stdout",
     "output_type": "stream",
     "text": [
      "Enter a rows: 5\n",
      "* * * * * \n",
      "* * * * \n",
      "* * * \n",
      "* * \n",
      "* \n"
     ]
    }
   ],
   "source": [
    "n = int(input(\"Enter a rows: \"))\n",
    "for r in range (1 , n+1):\n",
    "    for c in range(n+1 , r, -1): \n",
    "#         1 , n+2-i \n",
    "        print('*' , end=\" \")\n",
    "    print()\n",
    "    "
   ]
  },
  {
   "cell_type": "code",
   "execution_count": 20,
   "metadata": {},
   "outputs": [
    {
     "name": "stdout",
     "output_type": "stream",
     "text": [
      "Enter a rows: 4\n",
      "        * \n",
      "      * * \n",
      "    * * * \n",
      "  * * * * \n"
     ]
    }
   ],
   "source": [
    "n = int(input(\"Enter a rows: \"))\n",
    "for r in range (1,n+1):\n",
    "    for c in range(n+1 , r , -1):\n",
    "        print(\" \",end=\" \")\n",
    "    for k in range(1,r+1):\n",
    "            print('*' , end= \" \")\n",
    "    print()"
   ]
  },
  {
   "cell_type": "code",
   "execution_count": 10,
   "metadata": {},
   "outputs": [
    {
     "name": "stdout",
     "output_type": "stream",
     "text": [
      "Enter a rows: 3\n",
      "* * * \n",
      "  * * \n",
      "    * \n"
     ]
    }
   ],
   "source": [
    "n = int(input(\"Enter a rows: \"))\n",
    "for i in range (1,n+1):\n",
    "    for j in range (1,i):\n",
    "        print(\" \" ,end=\" \")\n",
    "    for k in range (n,i-1,-1):\n",
    "        print(\"*\",end=\" \")\n",
    "    print()"
   ]
  },
  {
   "cell_type": "code",
   "execution_count": 59,
   "metadata": {},
   "outputs": [
    {
     "name": "stdout",
     "output_type": "stream",
     "text": [
      "Enter a rows: 5\n",
      "          * \n",
      "        * * * \n",
      "      * * * * * \n",
      "    * * * * * * * \n",
      "  * * * * * * * * * \n",
      "    * * * * \n",
      "      * * * \n",
      "        * * \n",
      "          * \n"
     ]
    }
   ],
   "source": [
    "n = int(input(\"Enter a rows: \"))\n",
    "for r in range (1,n+1):\n",
    "    for c in range(n+1, r , -1):\n",
    "        print(\" \",end=\" \")\n",
    "    for k in range(1,r+1):\n",
    "            print('*' , end= \" \")\n",
    "    for j in range (2,c):\n",
    "        print('*' ,end=\" \")\n",
    "    print()\n",
    "for i in range (1,n):\n",
    "    for j in range (1,i+2):\n",
    "        print(\" \" ,end=\" \")\n",
    "    for k in range (n,i,-1):\n",
    "        print(\"*\",end=\" \")\n",
    "    for c in range(n+1 , r, -1): \n",
    "#         1 , n+2-i \n",
    "        print('*' , end=\" \")\n",
    "    print()\n",
    "    \n",
    "    print()"
   ]
  },
  {
   "cell_type": "code",
   "execution_count": null,
   "metadata": {},
   "outputs": [],
   "source": []
  }
 ],
 "metadata": {
  "kernelspec": {
   "display_name": "Python 3",
   "language": "python",
   "name": "python3"
  },
  "language_info": {
   "codemirror_mode": {
    "name": "ipython",
    "version": 3
   },
   "file_extension": ".py",
   "mimetype": "text/x-python",
   "name": "python",
   "nbconvert_exporter": "python",
   "pygments_lexer": "ipython3",
   "version": "3.8.5"
  }
 },
 "nbformat": 4,
 "nbformat_minor": 4
}

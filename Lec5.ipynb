{
 "cells": [
  {
   "cell_type": "code",
   "execution_count": 1,
   "metadata": {},
   "outputs": [
    {
     "name": "stdout",
     "output_type": "stream",
     "text": [
      "Enter a rows: 5\n",
      "          * \n",
      "        * * * \n",
      "      * * * * * \n",
      "    * * * * * * * \n",
      "  * * * * * * * * * \n",
      "    * * * * * * * \n",
      "      * * * * * \n",
      "        * * * \n",
      "          * \n"
     ]
    }
   ],
   "source": [
    "n = int(input(\"Enter a rows: \"))\n",
    "for r in range (1,n+1):\n",
    "    for c in range(n+1, r , -1):\n",
    "        print(\" \",end=\" \")\n",
    "    for k in range(1,r+1):\n",
    "            print('*' , end= \" \")\n",
    "    for j in range (2,c):\n",
    "        print('*' ,end=\" \")\n",
    "    print()\n",
    "for i in range (1,n):\n",
    "    for j in range (1,i+2):\n",
    "        print(\" \" ,end=\" \")\n",
    "    for k in range (n,i,-1):\n",
    "        print(\"*\",end=\" \")\n",
    "    for c in range(n , j, -1): \n",
    "        print('*' , end=\" \")\n",
    "    print()"
   ]
  },
  {
   "cell_type": "code",
   "execution_count": 2,
   "metadata": {},
   "outputs": [
    {
     "name": "stdout",
     "output_type": "stream",
     "text": [
      "Enter Number: 5\n",
      "        1 \n",
      "      2 1 2 \n",
      "    3 2 1 2 3 \n",
      "  4 3 2 1 2 3 4 \n",
      "5 4 3 2 1 2 3 4 5 \n",
      "  4 3 2 1 2 3 4 \n",
      "    3 2 1 2 3 \n",
      "      2 1 2 \n",
      "        1 \n"
     ]
    }
   ],
   "source": [
    "n = int(input(\"Enter Number: \"))\n",
    "for i in range (1,n+1):\n",
    "    for j in range(1,n-i+1):\n",
    "        print(\" \",end=\" \")\n",
    "    for k in range(i, 0,-1):\n",
    "        print(k, end=\" \")\n",
    "    for c in range(2,i+1):\n",
    "        print(c ,end=\" \")\n",
    "    print()\n",
    "for i in range(1,n):\n",
    "        for j in range(1,i+1):\n",
    "            print(\" \",end=\" \")\n",
    "        for k in range(n-i , 0,-1):\n",
    "            print(k , end=\" \")\n",
    "        for c in range(2,n-i+1):\n",
    "            print(c,end=\" \")\n",
    "        print()"
   ]
  },
  {
   "cell_type": "code",
   "execution_count": 3,
   "metadata": {},
   "outputs": [
    {
     "name": "stdout",
     "output_type": "stream",
     "text": [
      "Enter a number: 5\n",
      "    5   4   3   2   1 \n",
      "      4   3   2   1 \n",
      "        3   2   1 \n",
      "          2   1 \n",
      "            1 \n",
      "          2   1 \n",
      "        3   2   1 \n",
      "      4   3   2   1 \n",
      "    5   4   3   2   1 \n"
     ]
    }
   ],
   "source": [
    "n=int(input(\"Enter a number: \"))\n",
    "for i in range(1,n+1):\n",
    "    for j in range(1,i+1):\n",
    "        print(\"  \",end=\"\")\n",
    "    for k in range(n+1-i , 0 , -1):\n",
    "        print(\" \",k, end=\" \")\n",
    "    print()\n",
    "for i in range(1,n):\n",
    "    for j in range(1,n+1-i):\n",
    "        print(\"  \",end=\"\")\n",
    "    for k in range(i+1 , 0,-1):\n",
    "        print(\" \",k,end=\" \")\n",
    "    print()"
   ]
  },
  {
   "cell_type": "markdown",
   "metadata": {},
   "source": []
  },
  {
   "cell_type": "code",
   "execution_count": 12,
   "metadata": {
    "scrolled": true
   },
   "outputs": [
    {
     "name": "stdout",
     "output_type": "stream",
     "text": [
      "Enter a number: 4\n",
      "      1   \n",
      "    1   1   \n",
      "  1   2   1   \n",
      "1   3   3   1   \n"
     ]
    }
   ],
   "source": [
    "import math\n",
    "n = int(input(\"Enter a number: \"))\n",
    "for i in range(n):\n",
    "    for j in range(1,n-i):\n",
    "        print(\" \",end=\" \")\n",
    "    for k in range(0,i+1):\n",
    "        g=math.factorial(i)\n",
    "        c=math.factorial(i-k)\n",
    "        r=math.factorial(k)\n",
    "        print(g//c//r,\" \",end=\" \")\n",
    "    print()\n",
    "    \n",
    "        "
   ]
  },
  {
   "cell_type": "code",
   "execution_count": 17,
   "metadata": {},
   "outputs": [
    {
     "name": "stdout",
     "output_type": "stream",
     "text": [
      "Enter a row4\n",
      "A \n",
      "A B \n",
      "A B C \n",
      "A B C D \n"
     ]
    }
   ],
   "source": [
    "n=int(input(\"Enter a row \"))\n",
    "for i in range(1,n+1):\n",
    "    for j in range(i):\n",
    "        print(chr(65+j),end=\" \")\n",
    "    print()"
   ]
  },
  {
   "cell_type": "code",
   "execution_count": null,
   "metadata": {},
   "outputs": [],
   "source": [
    "hour = int(input(\"Enter time in hour: \"))\n",
    "time = input(\"Enter am or pm: \")\n",
    "a_time = int(input(\"Enter no of hour after u want to see: \"))"
   ]
  }
 ],
 "metadata": {
  "kernelspec": {
   "display_name": "Python 3",
   "language": "python",
   "name": "python3"
  },
  "language_info": {
   "codemirror_mode": {
    "name": "ipython",
    "version": 3
   },
   "file_extension": ".py",
   "mimetype": "text/x-python",
   "name": "python",
   "nbconvert_exporter": "python",
   "pygments_lexer": "ipython3",
   "version": "3.8.5"
  }
 },
 "nbformat": 4,
 "nbformat_minor": 4
}

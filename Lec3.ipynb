{
 "cells": [
  {
   "cell_type": "code",
   "execution_count": 1,
   "metadata": {},
   "outputs": [],
   "source": [
    "a =2 \n",
    "if a>3:\n",
    "    print(\"hi\")\n",
    "else:\n",
    "    print('10')\n",
    "if a+=2:\n",
    "    print('True')\n",
    "else:\n",
    "    print('False')"
   ]
  },
  {
   "cell_type": "code",
   "execution_count": null,
   "metadata": {},
   "outputs": [],
   "source": [
    "a = input(\"Enter a number:\")\n",
    "print(f\"{a}+{a+a}+{a+a+a}=\",int(a)+int(a+a)+int(a+a+a))"
   ]
  },
  {
   "cell_type": "code",
   "execution_count": null,
   "metadata": {},
   "outputs": [],
   "source": [
    "for i in range(1,10,1): print(i)"
   ]
  },
  {
   "cell_type": "code",
   "execution_count": null,
   "metadata": {},
   "outputs": [],
   "source": [
    "for i in range(10):print(i)"
   ]
  },
  {
   "cell_type": "code",
   "execution_count": null,
   "metadata": {},
   "outputs": [],
   "source": [
    "for i in range(1,10,2): print(i)"
   ]
  },
  {
   "cell_type": "code",
   "execution_count": null,
   "metadata": {},
   "outputs": [],
   "source": [
    "for i in range(10,0,-1): print(i)"
   ]
  },
  {
   "cell_type": "code",
   "execution_count": null,
   "metadata": {},
   "outputs": [],
   "source": [
    "for i in range(9,0,-2): print(i)"
   ]
  },
  {
   "cell_type": "code",
   "execution_count": null,
   "metadata": {},
   "outputs": [],
   "source": [
    "for i in range(10):\n",
    "    i+=7\n",
    "    print(i)"
   ]
  },
  {
   "cell_type": "code",
   "execution_count": null,
   "metadata": {},
   "outputs": [],
   "source": [
    "len('123')"
   ]
  },
  {
   "cell_type": "code",
   "execution_count": null,
   "metadata": {},
   "outputs": [],
   "source": [
    "#To reverse the number\n",
    "a = int(input(\"Enter a number: \"))\n",
    "sum1=0\n",
    "digit=len(str(a))\n",
    "for i in range (digit) :\n",
    "    r = a%10\n",
    "    sum1 =(sum1*10)+r\n",
    "    a=a//10\n",
    "print(sum1)"
   ]
  },
  {
   "cell_type": "code",
   "execution_count": null,
   "metadata": {},
   "outputs": [],
   "source": [
    "#To print palindrom no between 1 to 1000\n",
    "for i in range (1,1000,1):\n",
    "    s=0\n",
    "    temp = i\n",
    "    d=len(str(i))\n",
    "    for j in range (d):\n",
    "        r = i%10\n",
    "        s=(s*10)+r\n",
    "        i=i//10\n",
    "    if temp==s:\n",
    "        print(s,\" is palindrom\")"
   ]
  },
  {
   "cell_type": "code",
   "execution_count": null,
   "metadata": {},
   "outputs": [],
   "source": [
    "#Check whether given no is armstrong or not\n",
    "n = int(input(\"Enter a number: \"))\n",
    "temp=n\n",
    "s=0\n",
    "digit = len(str(n))\n",
    "for i in range(digit):\n",
    "    r = n%10\n",
    "    s = s +(r**digit)\n",
    "    n = n//10\n",
    "    \n",
    "if s==temp:\n",
    "    print(s,\" is armstrng no\")"
   ]
  },
  {
   "cell_type": "code",
   "execution_count": null,
   "metadata": {},
   "outputs": [],
   "source": [
    "#To check that given no is strong number or not\n",
    "n = int(input(\"Enter a number: \"))\n",
    "temp=n\n",
    "sum2=0\n",
    "end=len(str(n))\n",
    "for i in range(end):\n",
    "    fact=1\n",
    "    r = n%10\n",
    "    for j in range (r,0,-1):\n",
    "        fact= fact*j\n",
    "    sum2 = sum2+fact\n",
    "    n = n//10\n",
    "if temp == sum2:\n",
    "    print(\"It is strong number\")\n",
    "else:\n",
    "    print('It is not a strong number')"
   ]
  },
  {
   "cell_type": "code",
   "execution_count": null,
   "metadata": {},
   "outputs": [],
   "source": [
    "#while loop\n",
    "n=7\n",
    "while n>0:\n",
    "    print(n)\n",
    "    n-=1"
   ]
  },
  {
   "cell_type": "code",
   "execution_count": null,
   "metadata": {},
   "outputs": [],
   "source": [
    "for i in range(1,10):\n",
    "    if i==5:\n",
    "        break\n",
    "    print(i)"
   ]
  },
  {
   "cell_type": "code",
   "execution_count": null,
   "metadata": {},
   "outputs": [],
   "source": [
    "for i in range(1,10):\n",
    "    if i==5:\n",
    "        continue\n",
    "    print(i)"
   ]
  },
  {
   "cell_type": "code",
   "execution_count": null,
   "metadata": {},
   "outputs": [],
   "source": [
    "for i in range(1,10):\n",
    "    if i==5:\n",
    "        pass\n",
    "    print(i)"
   ]
  },
  {
   "cell_type": "code",
   "execution_count": null,
   "metadata": {},
   "outputs": [],
   "source": [
    "a=5\n",
    "while a>0:\n",
    "    if a==2:\n",
    "        break\n",
    "    print(a)\n",
    "    a-=1"
   ]
  },
  {
   "cell_type": "code",
   "execution_count": null,
   "metadata": {},
   "outputs": [],
   "source": [
    "a =int(input(\"Enter a number /done to break\"))\n",
    "count =1\n",
    "max1=a\n",
    "min1=a    \n",
    "s=a\n",
    "while True:\n",
    "    a =input(\"Enter a number /done to break\")\n",
    "    if a=='done':\n",
    "        break\n",
    "    n=int(a)\n",
    "    s=s+n\n",
    "    if max1<n:\n",
    "        max1=n\n",
    "    if min1>n:\n",
    "        min1=n\n",
    "    count+=1\n",
    "    avg=s/count\n",
    "print(min1,max1,avg)"
   ]
  },
  {
   "cell_type": "code",
   "execution_count": null,
   "metadata": {},
   "outputs": [],
   "source": []
  }
 ],
 "metadata": {
  "kernelspec": {
   "display_name": "Python 3",
   "language": "python",
   "name": "python3"
  },
  "language_info": {
   "codemirror_mode": {
    "name": "ipython",
    "version": 3
   },
   "file_extension": ".py",
   "mimetype": "text/x-python",
   "name": "python",
   "nbconvert_exporter": "python",
   "pygments_lexer": "ipython3",
   "version": "3.8.5"
  }
 },
 "nbformat": 4,
 "nbformat_minor": 4
}

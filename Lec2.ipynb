{
 "cells": [
  {
   "cell_type": "code",
   "execution_count": null,
   "metadata": {},
   "outputs": [],
   "source": [
    "print(print())"
   ]
  },
  {
   "cell_type": "code",
   "execution_count": null,
   "metadata": {},
   "outputs": [],
   "source": [
    "a = 7\n",
    "print(a+=3)"
   ]
  },
  {
   "cell_type": "code",
   "execution_count": null,
   "metadata": {},
   "outputs": [],
   "source": [
    "1/ True and False/1"
   ]
  },
  {
   "cell_type": "code",
   "execution_count": null,
   "metadata": {},
   "outputs": [],
   "source": [
    "'1' in 123"
   ]
  },
  {
   "cell_type": "code",
   "execution_count": null,
   "metadata": {},
   "outputs": [],
   "source": [
    "'1' in'123'"
   ]
  },
  {
   "cell_type": "code",
   "execution_count": null,
   "metadata": {},
   "outputs": [],
   "source": [
    "1 is 1.0"
   ]
  },
  {
   "cell_type": "code",
   "execution_count": null,
   "metadata": {},
   "outputs": [],
   "source": [
    "1 == 1.0"
   ]
  },
  {
   "cell_type": "code",
   "execution_count": null,
   "metadata": {},
   "outputs": [],
   "source": [
    "True or False"
   ]
  },
  {
   "cell_type": "code",
   "execution_count": null,
   "metadata": {},
   "outputs": [],
   "source": [
    "True and False"
   ]
  },
  {
   "cell_type": "code",
   "execution_count": null,
   "metadata": {},
   "outputs": [],
   "source": [
    "5>>2"
   ]
  },
  {
   "cell_type": "code",
   "execution_count": null,
   "metadata": {},
   "outputs": [],
   "source": [
    "5<<2"
   ]
  },
  {
   "cell_type": "code",
   "execution_count": null,
   "metadata": {},
   "outputs": [],
   "source": [
    "~5"
   ]
  },
  {
   "cell_type": "code",
   "execution_count": null,
   "metadata": {},
   "outputs": [],
   "source": [
    "~2"
   ]
  },
  {
   "cell_type": "code",
   "execution_count": null,
   "metadata": {},
   "outputs": [],
   "source": [
    "~0"
   ]
  },
  {
   "cell_type": "code",
   "execution_count": null,
   "metadata": {},
   "outputs": [],
   "source": [
    "~-1"
   ]
  },
  {
   "cell_type": "code",
   "execution_count": null,
   "metadata": {},
   "outputs": [],
   "source": [
    "7/0"
   ]
  },
  {
   "cell_type": "code",
   "execution_count": null,
   "metadata": {},
   "outputs": [],
   "source": [
    "if 1==1:\n",
    "    print('hi')\n",
    "else:\n",
    "    print('diya')"
   ]
  },
  {
   "cell_type": "code",
   "execution_count": null,
   "metadata": {},
   "outputs": [],
   "source": [
    "if 1==1:\n",
    "    if 2==2:\n",
    "        print('g')\n",
    "    else:\n",
    "        print('...')\n",
    "else:\n",
    "    print('yrty')"
   ]
  },
  {
   "cell_type": "code",
   "execution_count": null,
   "metadata": {},
   "outputs": [],
   "source": [
    "n = input(\"enter number: \")\n",
    "print(n)\n",
    "print(type(n))"
   ]
  },
  {
   "cell_type": "code",
   "execution_count": null,
   "metadata": {},
   "outputs": [],
   "source": [
    "a = int(input(\"Enter number: \"))\n",
    "if a%2==0:\n",
    "    print(f\"{a} is even\")\n",
    "    print(a,\" is even\")\n",
    "else:\n",
    "    print(\"It is odd\")"
   ]
  },
  {
   "cell_type": "code",
   "execution_count": null,
   "metadata": {},
   "outputs": [],
   "source": [
    "year = int(input(\"Enter year: \"))\n",
    "if (year%4 == 0 and year%100!=0) or (year%400 ==0):\n",
    "    print(year,\" is leap year\")\n",
    "else:\n",
    "    print(year,\" is not leap year\")"
   ]
  },
  {
   "cell_type": "code",
   "execution_count": null,
   "metadata": {},
   "outputs": [],
   "source": [
    "n = int(input(\"Enter money: \"))\n",
    "if n>=75:\n",
    "    nickle = n // 75\n",
    "    n=n%75\n",
    "    print(f\"{nickle} nickle\",end = \" \")\n",
    "if n>=25:\n",
    "    quarter = n//25\n",
    "    n=n%25\n",
    "    print(f\"{quarter} quarter\",end = \" \")\n",
    "if n>=10:\n",
    "    tens = n//10\n",
    "    n=n%10\n",
    "    print(f\"{tens} tens\", end=\" \")\n",
    "if n>=5:\n",
    "    fives = n//5\n",
    "    n= n%5\n",
    "    print(f\"{fives} fives\", end=\" \")\n",
    "if n>=1:\n",
    "    ones = n//1\n",
    "    n=n%1\n",
    "    print(f\"{ones} penny\", end =\" \")\n",
    "    "
   ]
  },
  {
   "cell_type": "code",
   "execution_count": 12,
   "metadata": {},
   "outputs": [
    {
     "name": "stdout",
     "output_type": "stream",
     "text": [
      "Enter day: 31\n",
      "Enter month: 12\n",
      "Enter year: 2000\n",
      "1 1 2001\n"
     ]
    }
   ],
   "source": [
    "day = int(input(\"Enter day: \"))\n",
    "month = int(input(\"Enter month: \"))\n",
    "y = int(input(\"Enter year: \"))\n",
    "if (day>31 or day<1 or month<0 or month>31):\n",
    "    print(\"Invalid input\")\n",
    "else:\n",
    "    if (day == 31) and (month == 1 or month == 3 or month == 5 or month == 7 or month == 8 or month == 10 or month == 12):\n",
    "        if month == 12 and day== 31:\n",
    "            day=1\n",
    "            month = 1\n",
    "            y = y+1\n",
    "    elif (day == 30) and (month == 4 or month == 6 or month == 9 or month == 11):\n",
    "        day = 1\n",
    "    else:\n",
    "        if month ==2:\n",
    "            if (y%4 == 0 and y%100!=0) or (y%400 ==0):\n",
    "                if day<=28:\n",
    "                    day = day+1\n",
    "                if day==29:\n",
    "                    day =1\n",
    "                    month = month +1\n",
    "\n",
    "print(day , month , y)"
   ]
  },
  {
   "cell_type": "code",
   "execution_count": 2,
   "metadata": {},
   "outputs": [
    {
     "name": "stdout",
     "output_type": "stream",
     "text": [
      "Hi\n"
     ]
    }
   ],
   "source": [
    "print('Hi')"
   ]
  },
  {
   "cell_type": "code",
   "execution_count": 25,
   "metadata": {},
   "outputs": [
    {
     "name": "stdout",
     "output_type": "stream",
     "text": [
      "Enter in cm: 1000\n",
      "1 km  "
     ]
    }
   ],
   "source": [
    "cm = int(input(\"Enter in cm: \"))\n",
    "if cm>=1000:\n",
    "    km = cm//1000\n",
    "    cm = cm%1000\n",
    "    print(f\"{km} km \",end=\" \")\n",
    "if cm>=100:\n",
    "    m = cm//100\n",
    "    cm = cm%100\n",
    "    print(f\"{m} m \",end=\" \")\n",
    "    print(f\"{cm} cm \",end=\" \")\n",
    "    "
   ]
  },
  {
   "cell_type": "code",
   "execution_count": null,
   "metadata": {},
   "outputs": [],
   "source": []
  }
 ],
 "metadata": {
  "kernelspec": {
   "display_name": "Python 3",
   "language": "python",
   "name": "python3"
  },
  "language_info": {
   "codemirror_mode": {
    "name": "ipython",
    "version": 3
   },
   "file_extension": ".py",
   "mimetype": "text/x-python",
   "name": "python",
   "nbconvert_exporter": "python",
   "pygments_lexer": "ipython3",
   "version": "3.8.5"
  }
 },
 "nbformat": 4,
 "nbformat_minor": 4
}

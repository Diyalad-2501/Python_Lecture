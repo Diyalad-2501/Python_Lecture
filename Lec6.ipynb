{
 "cells": [
  {
   "cell_type": "code",
   "execution_count": 1,
   "metadata": {},
   "outputs": [
    {
     "name": "stdout",
     "output_type": "stream",
     "text": [
      "None\n",
      "[1, 2, 3, 7, 8]\n"
     ]
    }
   ],
   "source": [
    "L=[1,2,3]\n",
    "L.append(7)\n",
    "print(L.append(8))\n",
    "print(L)"
   ]
  },
  {
   "cell_type": "code",
   "execution_count": 2,
   "metadata": {},
   "outputs": [
    {
     "name": "stdout",
     "output_type": "stream",
     "text": [
      "5 is odd number\n"
     ]
    }
   ],
   "source": [
    "def is_even(n):\n",
    "    \"B1 is best\"\n",
    "    if n%2==0:\n",
    "         return f\"{n} is even number\"\n",
    "    else:\n",
    "        return f\"{n} is odd number\"\n",
    "print(is_even(5))"
   ]
  },
  {
   "cell_type": "code",
   "execution_count": 3,
   "metadata": {},
   "outputs": [
    {
     "name": "stdout",
     "output_type": "stream",
     "text": [
      "Enter a number: 12\n",
      "Reverse number is 21\n"
     ]
    }
   ],
   "source": [
    "def reverse(n):\n",
    "    sum1=0\n",
    "    while(n>0):\n",
    "        rem = n%10\n",
    "        sum1 =(sum1*10)+rem\n",
    "        n=n//10\n",
    "    return f\"Reverse number is {sum1}\"\n",
    "n = int(input(\"Enter a number: \"))\n",
    "print(reverse(n))"
   ]
  },
  {
   "cell_type": "code",
   "execution_count": 18,
   "metadata": {},
   "outputs": [
    {
     "name": "stdout",
     "output_type": "stream",
     "text": [
      "10\n",
      "12\n",
      "18\n",
      "20\n",
      "21\n",
      "24\n",
      "27\n",
      "30\n",
      "36\n",
      "40\n",
      "42\n",
      "45\n",
      "48\n",
      "50\n",
      "54\n",
      "60\n",
      "63\n",
      "70\n",
      "72\n",
      "80\n",
      "81\n",
      "84\n",
      "90\n",
      "100\n",
      "Harsad Number\n"
     ]
    }
   ],
   "source": [
    "def harsad_no(num):\n",
    "    \"Harsad Number\"\n",
    "    sum1=0\n",
    "    temp = num\n",
    "    while(num>0):\n",
    "        rem=num%10\n",
    "        sum1+=rem\n",
    "        num=num//10\n",
    "    \n",
    "    if temp%sum1==0:\n",
    "        return True\n",
    "    else:\n",
    "        return False\n",
    "\n",
    "for i in range(10,101):\n",
    "    if harsad_no(i):\n",
    "        print(i)\n",
    "print(harsad_no.__doc__)\n",
    "        "
   ]
  },
  {
   "cell_type": "code",
   "execution_count": 19,
   "metadata": {},
   "outputs": [
    {
     "name": "stdout",
     "output_type": "stream",
     "text": [
      "(8, 0.6, 15)\n"
     ]
    }
   ],
   "source": [
    "def cal(a,b):\n",
    "    s = a+b\n",
    "    d = a/b\n",
    "    m = a*b\n",
    "    return s,d,m\n",
    "print(cal(3,5))"
   ]
  },
  {
   "cell_type": "code",
   "execution_count": 20,
   "metadata": {},
   "outputs": [
    {
     "name": "stdout",
     "output_type": "stream",
     "text": [
      "1\n",
      "(2, 3, 4, 5)\n",
      "<class 'tuple'>\n",
      "15\n"
     ]
    }
   ],
   "source": [
    "def power(var1 , *var2):\n",
    "    print(var1)\n",
    "    print(var2)\n",
    "    print(type(var2))\n",
    "    sum1=var1\n",
    "    for i in var2:\n",
    "        sum1+=i\n",
    "    return sum1\n",
    "\n",
    "print(power(1,2,3,4,5))"
   ]
  },
  {
   "cell_type": "code",
   "execution_count": 11,
   "metadata": {},
   "outputs": [
    {
     "name": "stdout",
     "output_type": "stream",
     "text": [
      "11 2\n",
      "11 g\n"
     ]
    }
   ],
   "source": [
    "def f(y):\n",
    "    global x\n",
    "    x+=2\n",
    "    print(x,'2')\n",
    "x=9\n",
    "f(x)\n",
    "print(x,'g')"
   ]
  },
  {
   "cell_type": "code",
   "execution_count": 12,
   "metadata": {},
   "outputs": [
    {
     "name": "stdout",
     "output_type": "stream",
     "text": [
      "10\n",
      "Diya\n"
     ]
    }
   ],
   "source": [
    "def f():\n",
    "    def g():\n",
    "        return \"Diya\"\n",
    "    print('10')\n",
    "    return g()\n",
    "print(f())"
   ]
  },
  {
   "cell_type": "code",
   "execution_count": 16,
   "metadata": {},
   "outputs": [
    {
     "name": "stdout",
     "output_type": "stream",
     "text": [
      "Enter hour: 5\n",
      "Enter am or pm: am\n",
      "Enter after time: 7\n",
      "12 pm\n"
     ]
    }
   ],
   "source": [
    "hour = int(input(\"Enter hour: \"))\n",
    "time = input(\"Enter am or pm: \")\n",
    "a_time = int(input(\"Enter after time: \"))\n",
    "\n",
    "for i in range(1,a_time+1):\n",
    "    hour+=1\n",
    "    if hour>12:\n",
    "        hour-=12\n",
    "    if hour==12:\n",
    "        if time=='am':\n",
    "            time='pm'\n",
    "        else:\n",
    "            time='am'\n",
    "print(hour , time)"
   ]
  },
  {
   "cell_type": "code",
   "execution_count": null,
   "metadata": {},
   "outputs": [],
   "source": []
  }
 ],
 "metadata": {
  "kernelspec": {
   "display_name": "Python 3",
   "language": "python",
   "name": "python3"
  },
  "language_info": {
   "codemirror_mode": {
    "name": "ipython",
    "version": 3
   },
   "file_extension": ".py",
   "mimetype": "text/x-python",
   "name": "python",
   "nbconvert_exporter": "python",
   "pygments_lexer": "ipython3",
   "version": "3.8.5"
  }
 },
 "nbformat": 4,
 "nbformat_minor": 4
}
